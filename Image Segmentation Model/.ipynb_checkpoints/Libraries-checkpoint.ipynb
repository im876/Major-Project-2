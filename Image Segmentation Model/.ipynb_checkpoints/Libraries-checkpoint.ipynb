{
 "cells": [
  {
   "cell_type": "markdown",
   "id": "d748d884",
   "metadata": {},
   "source": [
    "# Libraries Required\n",
    "\n",
    "## Contains list of all libraries and pre written commands to install them\n",
    "\n",
    "#### ORIGINAL AUTHOR : ISHAN MODI\n",
    "----------------------------------------------"
   ]
  },
  {
   "cell_type": "code",
   "execution_count": 1,
   "id": "06f1b03f",
   "metadata": {},
   "outputs": [
    {
     "name": "stdout",
     "output_type": "stream",
     "text": [
      "Requirement already satisfied: numpy in c:\\users\\admin\\.conda\\envs\\environment1\\lib\\site-packages (1.18.5)Note: you may need to restart the kernel to use updated packages.\n",
      "\n"
     ]
    }
   ],
   "source": [
    "pip install numpy"
   ]
  },
  {
   "cell_type": "code",
   "execution_count": 2,
   "id": "94eaa3ac",
   "metadata": {},
   "outputs": [
    {
     "name": "stdout",
     "output_type": "stream",
     "text": [
      "Requirement already satisfied: scipy in c:\\users\\admin\\.conda\\envs\\environment1\\lib\\site-packages (1.4.1)\n",
      "Requirement already satisfied: numpy>=1.13.3 in c:\\users\\admin\\.conda\\envs\\environment1\\lib\\site-packages (from scipy) (1.18.5)\n",
      "Note: you may need to restart the kernel to use updated packages.\n"
     ]
    }
   ],
   "source": [
    "pip install scipy"
   ]
  },
  {
   "cell_type": "code",
   "execution_count": 3,
   "id": "553b61a3",
   "metadata": {},
   "outputs": [
    {
     "name": "stdout",
     "output_type": "stream",
     "text": [
      "Requirement already satisfied: pillow in c:\\users\\admin\\.conda\\envs\\environment1\\lib\\site-packages (8.3.1)Note: you may need to restart the kernel to use updated packages.\n",
      "\n"
     ]
    }
   ],
   "source": [
    "pip install pillow"
   ]
  },
  {
   "cell_type": "code",
   "execution_count": 4,
   "id": "9b83fe3c",
   "metadata": {},
   "outputs": [
    {
     "name": "stdout",
     "output_type": "stream",
     "text": [
      "Requirement already satisfied: matplotlib in c:\\users\\admin\\.conda\\envs\\environment1\\lib\\site-packages (3.4.2)\n",
      "Requirement already satisfied: pillow>=6.2.0 in c:\\users\\admin\\.conda\\envs\\environment1\\lib\\site-packages (from matplotlib) (8.3.1)\n",
      "Requirement already satisfied: cycler>=0.10 in c:\\users\\admin\\.conda\\envs\\environment1\\lib\\site-packages (from matplotlib) (0.10.0)\n",
      "Requirement already satisfied: python-dateutil>=2.7 in c:\\users\\admin\\.conda\\envs\\environment1\\lib\\site-packages (from matplotlib) (2.8.2)\n",
      "Requirement already satisfied: numpy>=1.16 in c:\\users\\admin\\.conda\\envs\\environment1\\lib\\site-packages (from matplotlib) (1.18.5)\n",
      "Requirement already satisfied: pyparsing>=2.2.1 in c:\\users\\admin\\.conda\\envs\\environment1\\lib\\site-packages (from matplotlib) (2.4.7)\n",
      "Requirement already satisfied: kiwisolver>=1.0.1 in c:\\users\\admin\\.conda\\envs\\environment1\\lib\\site-packages (from matplotlib) (1.3.1)\n",
      "Requirement already satisfied: six in c:\\users\\admin\\.conda\\envs\\environment1\\lib\\site-packages (from cycler>=0.10->matplotlib) (1.16.0)\n",
      "Note: you may need to restart the kernel to use updated packages.\n"
     ]
    }
   ],
   "source": [
    "pip install matplotlib"
   ]
  },
  {
   "cell_type": "code",
   "execution_count": 5,
   "id": "9e59462d",
   "metadata": {},
   "outputs": [
    {
     "name": "stdout",
     "output_type": "stream",
     "text": [
      "Requirement already satisfied: scikit-image in c:\\users\\admin\\.conda\\envs\\environment1\\lib\\site-packages (0.18.2)\n",
      "Requirement already satisfied: scipy>=1.0.1 in c:\\users\\admin\\.conda\\envs\\environment1\\lib\\site-packages (from scikit-image) (1.4.1)\n",
      "Requirement already satisfied: networkx>=2.0 in c:\\users\\admin\\.conda\\envs\\environment1\\lib\\site-packages (from scikit-image) (2.5.1)\n",
      "Requirement already satisfied: tifffile>=2019.7.26 in c:\\users\\admin\\.conda\\envs\\environment1\\lib\\site-packages (from scikit-image) (2021.7.2)\n",
      "Requirement already satisfied: PyWavelets>=1.1.1 in c:\\users\\admin\\.conda\\envs\\environment1\\lib\\site-packages (from scikit-image) (1.1.1)\n",
      "Requirement already satisfied: pillow!=7.1.0,!=7.1.1,>=4.3.0 in c:\\users\\admin\\.conda\\envs\\environment1\\lib\\site-packages (from scikit-image) (8.3.1)\n",
      "Requirement already satisfied: numpy>=1.16.5 in c:\\users\\admin\\.conda\\envs\\environment1\\lib\\site-packages (from scikit-image) (1.18.5)\n",
      "Requirement already satisfied: imageio>=2.3.0 in c:\\users\\admin\\.conda\\envs\\environment1\\lib\\site-packages (from scikit-image) (2.9.0)\n",
      "Requirement already satisfied: matplotlib!=3.0.0,>=2.0.0 in c:\\users\\admin\\.conda\\envs\\environment1\\lib\\site-packages (from scikit-image) (3.4.2)\n",
      "Requirement already satisfied: pyparsing>=2.2.1 in c:\\users\\admin\\.conda\\envs\\environment1\\lib\\site-packages (from matplotlib!=3.0.0,>=2.0.0->scikit-image) (2.4.7)\n",
      "Requirement already satisfied: kiwisolver>=1.0.1 in c:\\users\\admin\\.conda\\envs\\environment1\\lib\\site-packages (from matplotlib!=3.0.0,>=2.0.0->scikit-image) (1.3.1)\n",
      "Requirement already satisfied: cycler>=0.10 in c:\\users\\admin\\.conda\\envs\\environment1\\lib\\site-packages (from matplotlib!=3.0.0,>=2.0.0->scikit-image) (0.10.0)\n",
      "Requirement already satisfied: python-dateutil>=2.7 in c:\\users\\admin\\.conda\\envs\\environment1\\lib\\site-packages (from matplotlib!=3.0.0,>=2.0.0->scikit-image) (2.8.2)\n",
      "Requirement already satisfied: six in c:\\users\\admin\\.conda\\envs\\environment1\\lib\\site-packages (from cycler>=0.10->matplotlib!=3.0.0,>=2.0.0->scikit-image) (1.16.0)\n",
      "Requirement already satisfied: decorator<5,>=4.3 in c:\\users\\admin\\.conda\\envs\\environment1\\lib\\site-packages (from networkx>=2.0->scikit-image) (4.4.2)\n",
      "Note: you may need to restart the kernel to use updated packages.\n"
     ]
    }
   ],
   "source": [
    "pip install scikit-image"
   ]
  },
  {
   "cell_type": "code",
   "execution_count": 6,
   "id": "08c72920",
   "metadata": {},
   "outputs": [
    {
     "name": "stdout",
     "output_type": "stream",
     "text": [
      "Requirement already satisfied: tensorflow in c:\\users\\admin\\.conda\\envs\\environment1\\lib\\site-packages (2.3.0)\n",
      "Requirement already satisfied: wrapt>=1.11.1 in c:\\users\\admin\\.conda\\envs\\environment1\\lib\\site-packages (from tensorflow) (1.12.1)\n",
      "Requirement already satisfied: wheel>=0.26 in c:\\users\\admin\\.conda\\envs\\environment1\\lib\\site-packages (from tensorflow) (0.36.2)\n",
      "Requirement already satisfied: protobuf>=3.9.2 in c:\\users\\admin\\.conda\\envs\\environment1\\lib\\site-packages (from tensorflow) (3.14.0)\n",
      "Requirement already satisfied: six>=1.12.0 in c:\\users\\admin\\.conda\\envs\\environment1\\lib\\site-packages (from tensorflow) (1.16.0)\n",
      "Requirement already satisfied: opt-einsum>=2.3.2 in c:\\users\\admin\\.conda\\envs\\environment1\\lib\\site-packages (from tensorflow) (3.3.0)\n",
      "Requirement already satisfied: gast==0.3.3 in c:\\users\\admin\\.conda\\envs\\environment1\\lib\\site-packages (from tensorflow) (0.3.3)\n",
      "Requirement already satisfied: google-pasta>=0.1.8 in c:\\users\\admin\\.conda\\envs\\environment1\\lib\\site-packages (from tensorflow) (0.2.0)\n",
      "Requirement already satisfied: numpy<1.19.0,>=1.16.0 in c:\\users\\admin\\.conda\\envs\\environment1\\lib\\site-packages (from tensorflow) (1.18.5)\n",
      "Requirement already satisfied: tensorflow-estimator<2.4.0,>=2.3.0 in c:\\users\\admin\\.conda\\envs\\environment1\\lib\\site-packages (from tensorflow) (2.3.0)\n",
      "Requirement already satisfied: astunparse==1.6.3 in c:\\users\\admin\\.conda\\envs\\environment1\\lib\\site-packages (from tensorflow) (1.6.3)\n",
      "Requirement already satisfied: keras-preprocessing<1.2,>=1.1.1 in c:\\users\\admin\\.conda\\envs\\environment1\\lib\\site-packages (from tensorflow) (1.1.2)\n",
      "Requirement already satisfied: grpcio>=1.8.6 in c:\\users\\admin\\.conda\\envs\\environment1\\lib\\site-packages (from tensorflow) (1.36.1)\n",
      "Requirement already satisfied: termcolor>=1.1.0 in c:\\users\\admin\\.conda\\envs\\environment1\\lib\\site-packages (from tensorflow) (1.1.0)\n",
      "Requirement already satisfied: tensorboard<3,>=2.3.0 in c:\\users\\admin\\.conda\\envs\\environment1\\lib\\site-packages (from tensorflow) (2.4.0)\n",
      "Requirement already satisfied: h5py<2.11.0,>=2.10.0 in c:\\users\\admin\\.conda\\envs\\environment1\\lib\\site-packages (from tensorflow) (2.10.0)\n",
      "Requirement already satisfied: scipy==1.4.1 in c:\\users\\admin\\.conda\\envs\\environment1\\lib\\site-packages (from tensorflow) (1.4.1)\n",
      "Requirement already satisfied: absl-py>=0.7.0 in c:\\users\\admin\\.conda\\envs\\environment1\\lib\\site-packages (from tensorflow) (0.13.0)\n",
      "Requirement already satisfied: google-auth-oauthlib<0.5,>=0.4.1 in c:\\users\\admin\\.conda\\envs\\environment1\\lib\\site-packages (from tensorboard<3,>=2.3.0->tensorflow) (0.4.4)\n",
      "Requirement already satisfied: requests<3,>=2.21.0 in c:\\users\\admin\\.conda\\envs\\environment1\\lib\\site-packages (from tensorboard<3,>=2.3.0->tensorflow) (2.25.1)\n",
      "Requirement already satisfied: setuptools>=41.0.0 in c:\\users\\admin\\.conda\\envs\\environment1\\lib\\site-packages (from tensorboard<3,>=2.3.0->tensorflow) (52.0.0.post20210125)\n",
      "Requirement already satisfied: tensorboard-plugin-wit>=1.6.0 in c:\\users\\admin\\.conda\\envs\\environment1\\lib\\site-packages (from tensorboard<3,>=2.3.0->tensorflow) (1.6.0)\n",
      "Requirement already satisfied: werkzeug>=0.11.15 in c:\\users\\admin\\.conda\\envs\\environment1\\lib\\site-packages (from tensorboard<3,>=2.3.0->tensorflow) (1.0.1)\n",
      "Requirement already satisfied: markdown>=2.6.8 in c:\\users\\admin\\.conda\\envs\\environment1\\lib\\site-packages (from tensorboard<3,>=2.3.0->tensorflow) (3.3.4)\n",
      "Requirement already satisfied: google-auth<2,>=1.6.3 in c:\\users\\admin\\.conda\\envs\\environment1\\lib\\site-packages (from tensorboard<3,>=2.3.0->tensorflow) (1.33.0)\n",
      "Requirement already satisfied: cachetools<5.0,>=2.0.0 in c:\\users\\admin\\.conda\\envs\\environment1\\lib\\site-packages (from google-auth<2,>=1.6.3->tensorboard<3,>=2.3.0->tensorflow) (4.2.2)\n",
      "Requirement already satisfied: rsa<5,>=3.1.4 in c:\\users\\admin\\.conda\\envs\\environment1\\lib\\site-packages (from google-auth<2,>=1.6.3->tensorboard<3,>=2.3.0->tensorflow) (4.7.2)\n",
      "Requirement already satisfied: pyasn1-modules>=0.2.1 in c:\\users\\admin\\.conda\\envs\\environment1\\lib\\site-packages (from google-auth<2,>=1.6.3->tensorboard<3,>=2.3.0->tensorflow) (0.2.8)\n",
      "Requirement already satisfied: requests-oauthlib>=0.7.0 in c:\\users\\admin\\.conda\\envs\\environment1\\lib\\site-packages (from google-auth-oauthlib<0.5,>=0.4.1->tensorboard<3,>=2.3.0->tensorflow) (1.3.0)\n",
      "Requirement already satisfied: pyasn1<0.5.0,>=0.4.6 in c:\\users\\admin\\.conda\\envs\\environment1\\lib\\site-packages (from pyasn1-modules>=0.2.1->google-auth<2,>=1.6.3->tensorboard<3,>=2.3.0->tensorflow) (0.4.8)\n",
      "Requirement already satisfied: certifi>=2017.4.17 in c:\\users\\admin\\.conda\\envs\\environment1\\lib\\site-packages (from requests<3,>=2.21.0->tensorboard<3,>=2.3.0->tensorflow) (2021.5.30)\n",
      "Requirement already satisfied: urllib3<1.27,>=1.21.1 in c:\\users\\admin\\.conda\\envs\\environment1\\lib\\site-packages (from requests<3,>=2.21.0->tensorboard<3,>=2.3.0->tensorflow) (1.26.6)\n",
      "Requirement already satisfied: chardet<5,>=3.0.2 in c:\\users\\admin\\.conda\\envs\\environment1\\lib\\site-packages (from requests<3,>=2.21.0->tensorboard<3,>=2.3.0->tensorflow) (3.0.4)\n",
      "Requirement already satisfied: idna<3,>=2.5 in c:\\users\\admin\\.conda\\envs\\environment1\\lib\\site-packages (from requests<3,>=2.21.0->tensorboard<3,>=2.3.0->tensorflow) (2.10)\n",
      "Requirement already satisfied: oauthlib>=3.0.0 in c:\\users\\admin\\.conda\\envs\\environment1\\lib\\site-packages (from requests-oauthlib>=0.7.0->google-auth-oauthlib<0.5,>=0.4.1->tensorboard<3,>=2.3.0->tensorflow) (3.1.1)\n",
      "Note: you may need to restart the kernel to use updated packages.\n"
     ]
    }
   ],
   "source": [
    "pip install tensorflow"
   ]
  },
  {
   "cell_type": "code",
   "execution_count": 7,
   "id": "eb8f82a1",
   "metadata": {},
   "outputs": [
    {
     "name": "stdout",
     "output_type": "stream",
     "text": [
      "Requirement already satisfied: keras in c:\\users\\admin\\.conda\\envs\\environment1\\lib\\site-packages (2.4.3)\n",
      "Requirement already satisfied: scipy>=0.14 in c:\\users\\admin\\.conda\\envs\\environment1\\lib\\site-packages (from keras) (1.4.1)\n",
      "Requirement already satisfied: h5py in c:\\users\\admin\\.conda\\envs\\environment1\\lib\\site-packages (from keras) (2.10.0)\n",
      "Requirement already satisfied: pyyaml in c:\\users\\admin\\.conda\\envs\\environment1\\lib\\site-packages (from keras) (5.4.1)\n",
      "Requirement already satisfied: numpy>=1.9.1 in c:\\users\\admin\\.conda\\envs\\environment1\\lib\\site-packages (from keras) (1.18.5)\n",
      "Requirement already satisfied: six in c:\\users\\admin\\.conda\\envs\\environment1\\lib\\site-packages (from h5py->keras) (1.16.0)\n",
      "Note: you may need to restart the kernel to use updated packages.\n"
     ]
    }
   ],
   "source": [
    "pip install keras"
   ]
  },
  {
   "cell_type": "code",
   "execution_count": 8,
   "id": "7d482525",
   "metadata": {},
   "outputs": [
    {
     "name": "stdout",
     "output_type": "stream",
     "text": [
      "Requirement already satisfied: opencv-python in c:\\users\\admin\\.conda\\envs\\environment1\\lib\\site-packages (4.5.3.56)\n",
      "Requirement already satisfied: numpy>=1.17.3 in c:\\users\\admin\\.conda\\envs\\environment1\\lib\\site-packages (from opencv-python) (1.18.5)\n",
      "Note: you may need to restart the kernel to use updated packages.\n"
     ]
    }
   ],
   "source": [
    "pip install opencv-python"
   ]
  },
  {
   "cell_type": "code",
   "execution_count": 9,
   "id": "eafe1fbb",
   "metadata": {},
   "outputs": [
    {
     "name": "stdout",
     "output_type": "stream",
     "text": [
      "Requirement already satisfied: h5py in c:\\users\\admin\\.conda\\envs\\environment1\\lib\\site-packages (2.10.0)\n",
      "Requirement already satisfied: numpy>=1.7 in c:\\users\\admin\\.conda\\envs\\environment1\\lib\\site-packages (from h5py) (1.18.5)\n",
      "Requirement already satisfied: six in c:\\users\\admin\\.conda\\envs\\environment1\\lib\\site-packages (from h5py) (1.16.0)\n",
      "Note: you may need to restart the kernel to use updated packages.\n"
     ]
    }
   ],
   "source": [
    "pip install h5py"
   ]
  },
  {
   "cell_type": "code",
   "execution_count": 10,
   "id": "e4b43893",
   "metadata": {},
   "outputs": [
    {
     "name": "stdout",
     "output_type": "stream",
     "text": [
      "Requirement already satisfied: imgaug in c:\\users\\admin\\.conda\\envs\\environment1\\lib\\site-packages (0.4.0)\n",
      "Requirement already satisfied: scipy in c:\\users\\admin\\.conda\\envs\\environment1\\lib\\site-packages (from imgaug) (1.4.1)\n",
      "Requirement already satisfied: six in c:\\users\\admin\\.conda\\envs\\environment1\\lib\\site-packages (from imgaug) (1.16.0)\n",
      "Requirement already satisfied: scikit-image>=0.14.2 in c:\\users\\admin\\.conda\\envs\\environment1\\lib\\site-packages (from imgaug) (0.18.2)\n",
      "Requirement already satisfied: opencv-python in c:\\users\\admin\\.conda\\envs\\environment1\\lib\\site-packages (from imgaug) (4.5.3.56)\n",
      "Requirement already satisfied: numpy>=1.15 in c:\\users\\admin\\.conda\\envs\\environment1\\lib\\site-packages (from imgaug) (1.18.5)\n",
      "Requirement already satisfied: imageio in c:\\users\\admin\\.conda\\envs\\environment1\\lib\\site-packages (from imgaug) (2.9.0)\n",
      "Requirement already satisfied: matplotlib in c:\\users\\admin\\.conda\\envs\\environment1\\lib\\site-packages (from imgaug) (3.4.2)\n",
      "Requirement already satisfied: Shapely in c:\\users\\admin\\.conda\\envs\\environment1\\lib\\site-packages (from imgaug) (1.7.1)\n",
      "Requirement already satisfied: Pillow in c:\\users\\admin\\.conda\\envs\\environment1\\lib\\site-packages (from imgaug) (8.3.1)\n",
      "Requirement already satisfied: PyWavelets>=1.1.1 in c:\\users\\admin\\.conda\\envs\\environment1\\lib\\site-packages (from scikit-image>=0.14.2->imgaug) (1.1.1)\n",
      "Requirement already satisfied: networkx>=2.0 in c:\\users\\admin\\.conda\\envs\\environment1\\lib\\site-packages (from scikit-image>=0.14.2->imgaug) (2.5.1)\n",
      "Requirement already satisfied: tifffile>=2019.7.26 in c:\\users\\admin\\.conda\\envs\\environment1\\lib\\site-packages (from scikit-image>=0.14.2->imgaug) (2021.7.2)\n",
      "Requirement already satisfied: pyparsing>=2.2.1 in c:\\users\\admin\\.conda\\envs\\environment1\\lib\\site-packages (from matplotlib->imgaug) (2.4.7)\n",
      "Requirement already satisfied: cycler>=0.10 in c:\\users\\admin\\.conda\\envs\\environment1\\lib\\site-packages (from matplotlib->imgaug) (0.10.0)\n",
      "Requirement already satisfied: python-dateutil>=2.7 in c:\\users\\admin\\.conda\\envs\\environment1\\lib\\site-packages (from matplotlib->imgaug) (2.8.2)\n",
      "Requirement already satisfied: kiwisolver>=1.0.1 in c:\\users\\admin\\.conda\\envs\\environment1\\lib\\site-packages (from matplotlib->imgaug) (1.3.1)\n",
      "Requirement already satisfied: decorator<5,>=4.3 in c:\\users\\admin\\.conda\\envs\\environment1\\lib\\site-packages (from networkx>=2.0->scikit-image>=0.14.2->imgaug) (4.4.2)\n",
      "Note: you may need to restart the kernel to use updated packages.\n"
     ]
    }
   ],
   "source": [
    "pip install imgaug"
   ]
  },
  {
   "cell_type": "code",
   "execution_count": 11,
   "id": "8192e722",
   "metadata": {},
   "outputs": [
    {
     "name": "stdout",
     "output_type": "stream",
     "text": [
      "Requirement already satisfied: ipython in c:\\users\\admin\\.conda\\envs\\environment1\\lib\\site-packages (7.22.0)\n",
      "Requirement already satisfied: jedi>=0.16 in c:\\users\\admin\\.conda\\envs\\environment1\\lib\\site-packages (from ipython) (0.17.0)\n",
      "Requirement already satisfied: pygments in c:\\users\\admin\\.conda\\envs\\environment1\\lib\\site-packages (from ipython) (2.9.0)\n",
      "Requirement already satisfied: pickleshare in c:\\users\\admin\\.conda\\envs\\environment1\\lib\\site-packages (from ipython) (0.7.5)\n",
      "Requirement already satisfied: decorator in c:\\users\\admin\\.conda\\envs\\environment1\\lib\\site-packages (from ipython) (4.4.2)\n",
      "Requirement already satisfied: prompt-toolkit!=3.0.0,!=3.0.1,<3.1.0,>=2.0.0 in c:\\users\\admin\\.conda\\envs\\environment1\\lib\\site-packages (from ipython) (3.0.17)\n",
      "Requirement already satisfied: colorama in c:\\users\\admin\\.conda\\envs\\environment1\\lib\\site-packages (from ipython) (0.4.4)\n",
      "Requirement already satisfied: setuptools>=18.5 in c:\\users\\admin\\.conda\\envs\\environment1\\lib\\site-packages (from ipython) (52.0.0.post20210125)\n",
      "Requirement already satisfied: backcall in c:\\users\\admin\\.conda\\envs\\environment1\\lib\\site-packages (from ipython) (0.2.0)\n",
      "Requirement already satisfied: traitlets>=4.2 in c:\\users\\admin\\.conda\\envs\\environment1\\lib\\site-packages (from ipython) (5.0.5)\n",
      "Requirement already satisfied: parso>=0.7.0 in c:\\users\\admin\\.conda\\envs\\environment1\\lib\\site-packages (from jedi>=0.16->ipython) (0.8.2)\n",
      "Requirement already satisfied: wcwidth in c:\\users\\admin\\.conda\\envs\\environment1\\lib\\site-packages (from prompt-toolkit!=3.0.0,!=3.0.1,<3.1.0,>=2.0.0->ipython) (0.2.5)\n",
      "Requirement already satisfied: ipython-genutils in c:\\users\\admin\\.conda\\envs\\environment1\\lib\\site-packages (from traitlets>=4.2->ipython) (0.2.0)\n",
      "Note: you may need to restart the kernel to use updated packages.\n"
     ]
    }
   ],
   "source": [
    "pip install ipython"
   ]
  },
  {
   "cell_type": "code",
   "execution_count": 12,
   "id": "4208fe0a",
   "metadata": {},
   "outputs": [
    {
     "name": "stdout",
     "output_type": "stream",
     "text": [
      "Requirement already satisfied: mrcnn in c:\\users\\admin\\.conda\\envs\\environment1\\lib\\site-packages (0.2)\n",
      "Note: you may need to restart the kernel to use updated packages.\n"
     ]
    }
   ],
   "source": [
    "pip install mrcnn"
   ]
  },
  {
   "cell_type": "code",
   "execution_count": 13,
   "id": "61dbe54e",
   "metadata": {},
   "outputs": [
    {
     "name": "stdout",
     "output_type": "stream",
     "text": [
      "Requirement already satisfied: docopt in c:\\users\\admin\\.conda\\envs\\environment1\\lib\\site-packages (0.6.2)\n",
      "Note: you may need to restart the kernel to use updated packages.\n"
     ]
    }
   ],
   "source": [
    "pip install docopt"
   ]
  },
  {
   "cell_type": "code",
   "execution_count": 14,
   "id": "83a2723e",
   "metadata": {},
   "outputs": [
    {
     "name": "stdout",
     "output_type": "stream",
     "text": [
      "Requirement already satisfied: clint in c:\\users\\admin\\.conda\\envs\\environment1\\lib\\site-packages (0.5.1)\n",
      "Requirement already satisfied: args in c:\\users\\admin\\.conda\\envs\\environment1\\lib\\site-packages (from clint) (0.1.0)\n",
      "Note: you may need to restart the kernel to use updated packages.\n"
     ]
    }
   ],
   "source": [
    "pip install clint"
   ]
  },
  {
   "cell_type": "code",
   "execution_count": 15,
   "id": "1c22f3c6",
   "metadata": {},
   "outputs": [
    {
     "name": "stdout",
     "output_type": "stream",
     "text": [
      "Requirement already satisfied: tablib in c:\\users\\admin\\.conda\\envs\\environment1\\lib\\site-packages (3.0.0)\n",
      "Note: you may need to restart the kernel to use updated packages.\n"
     ]
    }
   ],
   "source": [
    "pip install tablib"
   ]
  },
  {
   "cell_type": "code",
   "execution_count": 16,
   "id": "518e6d47",
   "metadata": {},
   "outputs": [
    {
     "name": "stdout",
     "output_type": "stream",
     "text": [
      "Requirement already satisfied: coco in c:\\users\\admin\\.conda\\envs\\environment1\\lib\\site-packages (0.1.2.2)\n",
      "Requirement already satisfied: docopt in c:\\users\\admin\\.conda\\envs\\environment1\\lib\\site-packages (from coco) (0.6.2)\n",
      "Requirement already satisfied: clint in c:\\users\\admin\\.conda\\envs\\environment1\\lib\\site-packages (from coco) (0.5.1)\n",
      "Requirement already satisfied: args in c:\\users\\admin\\.conda\\envs\\environment1\\lib\\site-packages (from clint->coco) (0.1.0)\n",
      "Note: you may need to restart the kernel to use updated packages.\n"
     ]
    }
   ],
   "source": [
    "pip install coco"
   ]
  },
  {
   "cell_type": "code",
   "execution_count": 5,
   "id": "723a60bc-0c6f-4e6a-a109-d486f0ff1ee7",
   "metadata": {},
   "outputs": [
    {
     "name": "stdout",
     "output_type": "stream",
     "text": [
      "Collecting pycocotools\n",
      "  Cloning https://github.com/philferriere/cocoapi.git to c:\\users\\admin\\appdata\\local\\temp\\pip-install-l9f15ukz\\pycocotools_02dde0cb28ab4a6c95b5103a9cb67003\n",
      "Note: you may need to restart the kernel to use updated packages.\n"
     ]
    },
    {
     "name": "stderr",
     "output_type": "stream",
     "text": [
      "  Running command git clone -q https://github.com/philferriere/cocoapi.git 'C:\\Users\\admin\\AppData\\Local\\Temp\\pip-install-l9f15ukz\\pycocotools_02dde0cb28ab4a6c95b5103a9cb67003'\n"
     ]
    }
   ],
   "source": [
    "pip install git+https://github.com/philferriere/cocoapi.git#egg=pycocotools^&subdirectory=PythonAPI"
   ]
  },
  {
   "cell_type": "markdown",
   "id": "7569935f-fe36-4ba1-b76c-2f4ede1cfc50",
   "metadata": {},
   "source": [
    "You will encounter issue : error: Microsoft Visual C++ 14.0 or greater is required. \n",
    "\n",
    "Steps to resolve it: \n",
    "Get it with \"Microsoft C++ Build Tools\": https://visualstudio.microsoft.com/visual-cpp-build-tools/"
   ]
  },
  {
   "cell_type": "code",
   "execution_count": 2,
   "id": "e33f2421-aa30-4b90-9c51-262e5764205b",
   "metadata": {},
   "outputs": [
    {
     "name": "stdout",
     "output_type": "stream",
     "text": [
      "Requirement already satisfied: pycocotools in c:\\users\\admin\\.conda\\envs\\environment1\\lib\\site-packages (2.0)\n",
      "Note: you may need to restart the kernel to use updated packages.\n"
     ]
    }
   ],
   "source": [
    "pip install pycocotools"
   ]
  },
  {
   "cell_type": "code",
   "execution_count": 6,
   "id": "fd1cc1ef-3c10-40d7-b613-1c41757b891b",
   "metadata": {},
   "outputs": [
    {
     "name": "stdout",
     "output_type": "stream",
     "text": [
      "Requirement already satisfied: cmake in c:\\users\\admin\\.conda\\envs\\environment1\\lib\\site-packages (3.21.0)\n",
      "Note: you may need to restart the kernel to use updated packages.\n"
     ]
    }
   ],
   "source": [
    "pip install cmake"
   ]
  },
  {
   "cell_type": "code",
   "execution_count": null,
   "id": "af31dfe3-24ea-4f6c-a250-1de102c2fd37",
   "metadata": {},
   "outputs": [],
   "source": []
  }
 ],
 "metadata": {
  "kernelspec": {
   "display_name": "Python 3",
   "language": "python",
   "name": "python3"
  },
  "language_info": {
   "codemirror_mode": {
    "name": "ipython",
    "version": 3
   },
   "file_extension": ".py",
   "mimetype": "text/x-python",
   "name": "python",
   "nbconvert_exporter": "python",
   "pygments_lexer": "ipython3",
   "version": "3.8.10"
  }
 },
 "nbformat": 4,
 "nbformat_minor": 5
}
